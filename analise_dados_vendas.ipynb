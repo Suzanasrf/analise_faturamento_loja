{
 "cells": [
  {
   "cell_type": "code",
   "execution_count": 35,
   "id": "523cbfa1",
   "metadata": {},
   "outputs": [
    {
     "data": {
      "text/html": [
       "<div>\n",
       "<style scoped>\n",
       "    .dataframe tbody tr th:only-of-type {\n",
       "        vertical-align: middle;\n",
       "    }\n",
       "\n",
       "    .dataframe tbody tr th {\n",
       "        vertical-align: top;\n",
       "    }\n",
       "\n",
       "    .dataframe thead th {\n",
       "        text-align: right;\n",
       "    }\n",
       "</style>\n",
       "<table border=\"1\" class=\"dataframe\">\n",
       "  <thead>\n",
       "    <tr style=\"text-align: right;\">\n",
       "      <th></th>\n",
       "      <th>Data</th>\n",
       "      <th>ID Loja</th>\n",
       "      <th>Produto</th>\n",
       "      <th>Quantidade</th>\n",
       "      <th>Valor Unitário</th>\n",
       "      <th>Valor Final</th>\n",
       "    </tr>\n",
       "  </thead>\n",
       "  <tbody>\n",
       "    <tr>\n",
       "      <th>0</th>\n",
       "      <td>2019-12-01</td>\n",
       "      <td>Iguatemi Campinas</td>\n",
       "      <td>Bermuda Estampa</td>\n",
       "      <td>1</td>\n",
       "      <td>169</td>\n",
       "      <td>169</td>\n",
       "    </tr>\n",
       "    <tr>\n",
       "      <th>1</th>\n",
       "      <td>2019-12-01</td>\n",
       "      <td>Iguatemi Esplanada</td>\n",
       "      <td>Bermuda Xadrez</td>\n",
       "      <td>1</td>\n",
       "      <td>155</td>\n",
       "      <td>155</td>\n",
       "    </tr>\n",
       "    <tr>\n",
       "      <th>2</th>\n",
       "      <td>2019-12-01</td>\n",
       "      <td>Norte Shopping</td>\n",
       "      <td>Bermuda</td>\n",
       "      <td>2</td>\n",
       "      <td>150</td>\n",
       "      <td>300</td>\n",
       "    </tr>\n",
       "    <tr>\n",
       "      <th>3</th>\n",
       "      <td>2019-12-01</td>\n",
       "      <td>Iguatemi Campinas</td>\n",
       "      <td>Bermuda Listrado</td>\n",
       "      <td>3</td>\n",
       "      <td>163</td>\n",
       "      <td>489</td>\n",
       "    </tr>\n",
       "    <tr>\n",
       "      <th>4</th>\n",
       "      <td>2019-12-01</td>\n",
       "      <td>Iguatemi Campinas</td>\n",
       "      <td>Bermuda Linho</td>\n",
       "      <td>3</td>\n",
       "      <td>195</td>\n",
       "      <td>585</td>\n",
       "    </tr>\n",
       "    <tr>\n",
       "      <th>5</th>\n",
       "      <td>2019-12-03</td>\n",
       "      <td>Iguatemi Campinas</td>\n",
       "      <td>Bermuda Xadrez</td>\n",
       "      <td>1</td>\n",
       "      <td>155</td>\n",
       "      <td>155</td>\n",
       "    </tr>\n",
       "    <tr>\n",
       "      <th>6</th>\n",
       "      <td>2019-12-03</td>\n",
       "      <td>Bourbon Shopping SP</td>\n",
       "      <td>Bermuda Listrado</td>\n",
       "      <td>1</td>\n",
       "      <td>163</td>\n",
       "      <td>163</td>\n",
       "    </tr>\n",
       "    <tr>\n",
       "      <th>7</th>\n",
       "      <td>2019-12-03</td>\n",
       "      <td>Bourbon Shopping SP</td>\n",
       "      <td>Bermuda Xadrez</td>\n",
       "      <td>3</td>\n",
       "      <td>155</td>\n",
       "      <td>465</td>\n",
       "    </tr>\n",
       "    <tr>\n",
       "      <th>8</th>\n",
       "      <td>2019-12-03</td>\n",
       "      <td>Bourbon Shopping SP</td>\n",
       "      <td>Bermuda Estampa</td>\n",
       "      <td>1</td>\n",
       "      <td>169</td>\n",
       "      <td>169</td>\n",
       "    </tr>\n",
       "    <tr>\n",
       "      <th>9</th>\n",
       "      <td>2019-12-04</td>\n",
       "      <td>Center Shopping Uberlândia</td>\n",
       "      <td>Bermuda Xadrez</td>\n",
       "      <td>4</td>\n",
       "      <td>155</td>\n",
       "      <td>620</td>\n",
       "    </tr>\n",
       "    <tr>\n",
       "      <th>10</th>\n",
       "      <td>2019-12-04</td>\n",
       "      <td>Iguatemi Esplanada</td>\n",
       "      <td>Bermuda</td>\n",
       "      <td>1</td>\n",
       "      <td>150</td>\n",
       "      <td>150</td>\n",
       "    </tr>\n",
       "    <tr>\n",
       "      <th>11</th>\n",
       "      <td>2019-12-04</td>\n",
       "      <td>Bourbon Shopping SP</td>\n",
       "      <td>Bermuda Estampa</td>\n",
       "      <td>2</td>\n",
       "      <td>169</td>\n",
       "      <td>338</td>\n",
       "    </tr>\n",
       "    <tr>\n",
       "      <th>12</th>\n",
       "      <td>2019-12-04</td>\n",
       "      <td>Iguatemi Campinas</td>\n",
       "      <td>Bermuda</td>\n",
       "      <td>4</td>\n",
       "      <td>150</td>\n",
       "      <td>600</td>\n",
       "    </tr>\n",
       "    <tr>\n",
       "      <th>13</th>\n",
       "      <td>2019-12-05</td>\n",
       "      <td>Iguatemi Campinas</td>\n",
       "      <td>Bermuda Liso</td>\n",
       "      <td>55</td>\n",
       "      <td>157</td>\n",
       "      <td>8635</td>\n",
       "    </tr>\n",
       "    <tr>\n",
       "      <th>14</th>\n",
       "      <td>2019-12-05</td>\n",
       "      <td>Iguatemi Campinas</td>\n",
       "      <td>Bermuda</td>\n",
       "      <td>4</td>\n",
       "      <td>150</td>\n",
       "      <td>600</td>\n",
       "    </tr>\n",
       "    <tr>\n",
       "      <th>15</th>\n",
       "      <td>2019-12-05</td>\n",
       "      <td>Bourbon Shopping SP</td>\n",
       "      <td>Bermuda Listrado</td>\n",
       "      <td>1</td>\n",
       "      <td>163</td>\n",
       "      <td>163</td>\n",
       "    </tr>\n",
       "    <tr>\n",
       "      <th>16</th>\n",
       "      <td>2019-12-06</td>\n",
       "      <td>Iguatemi Esplanada</td>\n",
       "      <td>Bermuda Estampa</td>\n",
       "      <td>1</td>\n",
       "      <td>169</td>\n",
       "      <td>169</td>\n",
       "    </tr>\n",
       "    <tr>\n",
       "      <th>17</th>\n",
       "      <td>2019-12-07</td>\n",
       "      <td>Iguatemi Campinas</td>\n",
       "      <td>Bermuda Xadrez</td>\n",
       "      <td>1</td>\n",
       "      <td>155</td>\n",
       "      <td>155</td>\n",
       "    </tr>\n",
       "    <tr>\n",
       "      <th>18</th>\n",
       "      <td>2019-12-07</td>\n",
       "      <td>Bourbon Shopping SP</td>\n",
       "      <td>Bermuda</td>\n",
       "      <td>3</td>\n",
       "      <td>150</td>\n",
       "      <td>450</td>\n",
       "    </tr>\n",
       "    <tr>\n",
       "      <th>19</th>\n",
       "      <td>2019-12-08</td>\n",
       "      <td>Center Shopping Uberlândia</td>\n",
       "      <td>Bermuda Linho</td>\n",
       "      <td>4</td>\n",
       "      <td>195</td>\n",
       "      <td>780</td>\n",
       "    </tr>\n",
       "    <tr>\n",
       "      <th>20</th>\n",
       "      <td>2019-12-08</td>\n",
       "      <td>Iguatemi Campinas</td>\n",
       "      <td>Bermuda Estampa</td>\n",
       "      <td>4</td>\n",
       "      <td>169</td>\n",
       "      <td>676</td>\n",
       "    </tr>\n",
       "    <tr>\n",
       "      <th>21</th>\n",
       "      <td>2019-12-09</td>\n",
       "      <td>Iguatemi Esplanada</td>\n",
       "      <td>Bermuda Xadrez</td>\n",
       "      <td>3</td>\n",
       "      <td>155</td>\n",
       "      <td>465</td>\n",
       "    </tr>\n",
       "    <tr>\n",
       "      <th>22</th>\n",
       "      <td>2019-12-10</td>\n",
       "      <td>Center Shopping Uberlândia</td>\n",
       "      <td>Bermuda Listrado</td>\n",
       "      <td>1</td>\n",
       "      <td>163</td>\n",
       "      <td>163</td>\n",
       "    </tr>\n",
       "    <tr>\n",
       "      <th>23</th>\n",
       "      <td>2019-12-11</td>\n",
       "      <td>Iguatemi Campinas</td>\n",
       "      <td>Bermuda Xadrez</td>\n",
       "      <td>1</td>\n",
       "      <td>155</td>\n",
       "      <td>155</td>\n",
       "    </tr>\n",
       "    <tr>\n",
       "      <th>24</th>\n",
       "      <td>2019-12-11</td>\n",
       "      <td>Norte Shopping</td>\n",
       "      <td>Bermuda Xadrez</td>\n",
       "      <td>2</td>\n",
       "      <td>155</td>\n",
       "      <td>310</td>\n",
       "    </tr>\n",
       "    <tr>\n",
       "      <th>25</th>\n",
       "      <td>2019-12-12</td>\n",
       "      <td>Iguatemi Esplanada</td>\n",
       "      <td>Bermuda Linho</td>\n",
       "      <td>1</td>\n",
       "      <td>195</td>\n",
       "      <td>195</td>\n",
       "    </tr>\n",
       "    <tr>\n",
       "      <th>26</th>\n",
       "      <td>2019-12-14</td>\n",
       "      <td>Bourbon Shopping SP</td>\n",
       "      <td>Bermuda Linho</td>\n",
       "      <td>1</td>\n",
       "      <td>195</td>\n",
       "      <td>195</td>\n",
       "    </tr>\n",
       "    <tr>\n",
       "      <th>27</th>\n",
       "      <td>2019-12-15</td>\n",
       "      <td>Iguatemi Campinas</td>\n",
       "      <td>Bermuda Linho</td>\n",
       "      <td>3</td>\n",
       "      <td>195</td>\n",
       "      <td>585</td>\n",
       "    </tr>\n",
       "    <tr>\n",
       "      <th>28</th>\n",
       "      <td>2019-12-15</td>\n",
       "      <td>Center Shopping Uberlândia</td>\n",
       "      <td>Bermuda Xadrez</td>\n",
       "      <td>1</td>\n",
       "      <td>155</td>\n",
       "      <td>155</td>\n",
       "    </tr>\n",
       "    <tr>\n",
       "      <th>29</th>\n",
       "      <td>2019-12-15</td>\n",
       "      <td>Bourbon Shopping SP</td>\n",
       "      <td>Bermuda Listrado</td>\n",
       "      <td>2</td>\n",
       "      <td>163</td>\n",
       "      <td>326</td>\n",
       "    </tr>\n",
       "    <tr>\n",
       "      <th>30</th>\n",
       "      <td>2019-12-16</td>\n",
       "      <td>Norte Shopping</td>\n",
       "      <td>Bermuda Listrado</td>\n",
       "      <td>1</td>\n",
       "      <td>163</td>\n",
       "      <td>163</td>\n",
       "    </tr>\n",
       "    <tr>\n",
       "      <th>31</th>\n",
       "      <td>2019-12-16</td>\n",
       "      <td>Bourbon Shopping SP</td>\n",
       "      <td>Bermuda Listrado</td>\n",
       "      <td>2</td>\n",
       "      <td>163</td>\n",
       "      <td>326</td>\n",
       "    </tr>\n",
       "    <tr>\n",
       "      <th>32</th>\n",
       "      <td>2019-12-17</td>\n",
       "      <td>Norte Shopping</td>\n",
       "      <td>Bermuda Xadrez</td>\n",
       "      <td>1</td>\n",
       "      <td>155</td>\n",
       "      <td>155</td>\n",
       "    </tr>\n",
       "    <tr>\n",
       "      <th>33</th>\n",
       "      <td>2019-12-17</td>\n",
       "      <td>Iguatemi Campinas</td>\n",
       "      <td>Bermuda Listrado</td>\n",
       "      <td>4</td>\n",
       "      <td>163</td>\n",
       "      <td>652</td>\n",
       "    </tr>\n",
       "    <tr>\n",
       "      <th>34</th>\n",
       "      <td>2019-12-17</td>\n",
       "      <td>Bourbon Shopping SP</td>\n",
       "      <td>Bermuda</td>\n",
       "      <td>2</td>\n",
       "      <td>150</td>\n",
       "      <td>300</td>\n",
       "    </tr>\n",
       "    <tr>\n",
       "      <th>35</th>\n",
       "      <td>2019-12-17</td>\n",
       "      <td>Bourbon Shopping SP</td>\n",
       "      <td>Bermuda Listrado</td>\n",
       "      <td>3</td>\n",
       "      <td>163</td>\n",
       "      <td>489</td>\n",
       "    </tr>\n",
       "    <tr>\n",
       "      <th>36</th>\n",
       "      <td>2019-12-18</td>\n",
       "      <td>Norte Shopping</td>\n",
       "      <td>Bermuda Listrado</td>\n",
       "      <td>3</td>\n",
       "      <td>163</td>\n",
       "      <td>489</td>\n",
       "    </tr>\n",
       "    <tr>\n",
       "      <th>37</th>\n",
       "      <td>2019-12-18</td>\n",
       "      <td>Iguatemi Esplanada</td>\n",
       "      <td>Bermuda Estampa</td>\n",
       "      <td>1</td>\n",
       "      <td>169</td>\n",
       "      <td>169</td>\n",
       "    </tr>\n",
       "    <tr>\n",
       "      <th>38</th>\n",
       "      <td>2019-12-19</td>\n",
       "      <td>Iguatemi Campinas</td>\n",
       "      <td>Bermuda Listrado</td>\n",
       "      <td>1</td>\n",
       "      <td>163</td>\n",
       "      <td>163</td>\n",
       "    </tr>\n",
       "    <tr>\n",
       "      <th>39</th>\n",
       "      <td>2019-12-19</td>\n",
       "      <td>Center Shopping Uberlândia</td>\n",
       "      <td>Bermuda Estampa</td>\n",
       "      <td>1</td>\n",
       "      <td>169</td>\n",
       "      <td>169</td>\n",
       "    </tr>\n",
       "    <tr>\n",
       "      <th>40</th>\n",
       "      <td>2019-12-19</td>\n",
       "      <td>Center Shopping Uberlândia</td>\n",
       "      <td>Bermuda Estampa</td>\n",
       "      <td>1</td>\n",
       "      <td>169</td>\n",
       "      <td>169</td>\n",
       "    </tr>\n",
       "    <tr>\n",
       "      <th>41</th>\n",
       "      <td>2019-12-19</td>\n",
       "      <td>Norte Shopping</td>\n",
       "      <td>Bermuda</td>\n",
       "      <td>1</td>\n",
       "      <td>150</td>\n",
       "      <td>150</td>\n",
       "    </tr>\n",
       "    <tr>\n",
       "      <th>42</th>\n",
       "      <td>2019-12-20</td>\n",
       "      <td>Bourbon Shopping SP</td>\n",
       "      <td>Bermuda Listrado</td>\n",
       "      <td>2</td>\n",
       "      <td>163</td>\n",
       "      <td>326</td>\n",
       "    </tr>\n",
       "    <tr>\n",
       "      <th>43</th>\n",
       "      <td>2019-12-20</td>\n",
       "      <td>Iguatemi Esplanada</td>\n",
       "      <td>Bermuda Linho</td>\n",
       "      <td>1</td>\n",
       "      <td>195</td>\n",
       "      <td>195</td>\n",
       "    </tr>\n",
       "    <tr>\n",
       "      <th>44</th>\n",
       "      <td>2019-12-21</td>\n",
       "      <td>Norte Shopping</td>\n",
       "      <td>Bermuda Estampa</td>\n",
       "      <td>5</td>\n",
       "      <td>169</td>\n",
       "      <td>845</td>\n",
       "    </tr>\n",
       "    <tr>\n",
       "      <th>45</th>\n",
       "      <td>2019-12-21</td>\n",
       "      <td>Norte Shopping</td>\n",
       "      <td>Bermuda</td>\n",
       "      <td>4</td>\n",
       "      <td>150</td>\n",
       "      <td>600</td>\n",
       "    </tr>\n",
       "    <tr>\n",
       "      <th>46</th>\n",
       "      <td>2019-12-21</td>\n",
       "      <td>Iguatemi Esplanada</td>\n",
       "      <td>Bermuda Linho</td>\n",
       "      <td>5</td>\n",
       "      <td>195</td>\n",
       "      <td>975</td>\n",
       "    </tr>\n",
       "    <tr>\n",
       "      <th>47</th>\n",
       "      <td>2019-12-22</td>\n",
       "      <td>Iguatemi Campinas</td>\n",
       "      <td>Bermuda Xadrez</td>\n",
       "      <td>1</td>\n",
       "      <td>155</td>\n",
       "      <td>155</td>\n",
       "    </tr>\n",
       "    <tr>\n",
       "      <th>48</th>\n",
       "      <td>2019-12-22</td>\n",
       "      <td>Center Shopping Uberlândia</td>\n",
       "      <td>Bermuda Listrado</td>\n",
       "      <td>1</td>\n",
       "      <td>163</td>\n",
       "      <td>163</td>\n",
       "    </tr>\n",
       "    <tr>\n",
       "      <th>49</th>\n",
       "      <td>2019-12-23</td>\n",
       "      <td>Norte Shopping</td>\n",
       "      <td>Bermuda Linho</td>\n",
       "      <td>2</td>\n",
       "      <td>195</td>\n",
       "      <td>390</td>\n",
       "    </tr>\n",
       "    <tr>\n",
       "      <th>50</th>\n",
       "      <td>2019-12-23</td>\n",
       "      <td>Norte Shopping</td>\n",
       "      <td>Bermuda</td>\n",
       "      <td>2</td>\n",
       "      <td>150</td>\n",
       "      <td>300</td>\n",
       "    </tr>\n",
       "    <tr>\n",
       "      <th>51</th>\n",
       "      <td>2019-12-24</td>\n",
       "      <td>Center Shopping Uberlândia</td>\n",
       "      <td>Bermuda Xadrez</td>\n",
       "      <td>1</td>\n",
       "      <td>155</td>\n",
       "      <td>155</td>\n",
       "    </tr>\n",
       "    <tr>\n",
       "      <th>52</th>\n",
       "      <td>2019-12-24</td>\n",
       "      <td>Norte Shopping</td>\n",
       "      <td>Bermuda Xadrez</td>\n",
       "      <td>4</td>\n",
       "      <td>155</td>\n",
       "      <td>620</td>\n",
       "    </tr>\n",
       "    <tr>\n",
       "      <th>53</th>\n",
       "      <td>2019-12-24</td>\n",
       "      <td>Center Shopping Uberlândia</td>\n",
       "      <td>Bermuda Xadrez</td>\n",
       "      <td>4</td>\n",
       "      <td>155</td>\n",
       "      <td>620</td>\n",
       "    </tr>\n",
       "    <tr>\n",
       "      <th>54</th>\n",
       "      <td>2019-12-24</td>\n",
       "      <td>Iguatemi Campinas</td>\n",
       "      <td>Bermuda Liso</td>\n",
       "      <td>78</td>\n",
       "      <td>157</td>\n",
       "      <td>12246</td>\n",
       "    </tr>\n",
       "    <tr>\n",
       "      <th>55</th>\n",
       "      <td>2019-12-25</td>\n",
       "      <td>Iguatemi Campinas</td>\n",
       "      <td>Bermuda Liso</td>\n",
       "      <td>100</td>\n",
       "      <td>157</td>\n",
       "      <td>15700</td>\n",
       "    </tr>\n",
       "    <tr>\n",
       "      <th>56</th>\n",
       "      <td>2019-12-26</td>\n",
       "      <td>Bourbon Shopping SP</td>\n",
       "      <td>Bermuda Estampa</td>\n",
       "      <td>4</td>\n",
       "      <td>169</td>\n",
       "      <td>676</td>\n",
       "    </tr>\n",
       "  </tbody>\n",
       "</table>\n",
       "</div>"
      ],
      "text/plain": [
       "         Data                     ID Loja           Produto  Quantidade  \\\n",
       "0  2019-12-01           Iguatemi Campinas   Bermuda Estampa           1   \n",
       "1  2019-12-01          Iguatemi Esplanada    Bermuda Xadrez           1   \n",
       "2  2019-12-01              Norte Shopping           Bermuda           2   \n",
       "3  2019-12-01           Iguatemi Campinas  Bermuda Listrado           3   \n",
       "4  2019-12-01           Iguatemi Campinas     Bermuda Linho           3   \n",
       "5  2019-12-03           Iguatemi Campinas    Bermuda Xadrez           1   \n",
       "6  2019-12-03         Bourbon Shopping SP  Bermuda Listrado           1   \n",
       "7  2019-12-03         Bourbon Shopping SP    Bermuda Xadrez           3   \n",
       "8  2019-12-03         Bourbon Shopping SP   Bermuda Estampa           1   \n",
       "9  2019-12-04  Center Shopping Uberlândia    Bermuda Xadrez           4   \n",
       "10 2019-12-04          Iguatemi Esplanada           Bermuda           1   \n",
       "11 2019-12-04         Bourbon Shopping SP   Bermuda Estampa           2   \n",
       "12 2019-12-04           Iguatemi Campinas           Bermuda           4   \n",
       "13 2019-12-05           Iguatemi Campinas      Bermuda Liso          55   \n",
       "14 2019-12-05           Iguatemi Campinas           Bermuda           4   \n",
       "15 2019-12-05         Bourbon Shopping SP  Bermuda Listrado           1   \n",
       "16 2019-12-06          Iguatemi Esplanada   Bermuda Estampa           1   \n",
       "17 2019-12-07           Iguatemi Campinas    Bermuda Xadrez           1   \n",
       "18 2019-12-07         Bourbon Shopping SP           Bermuda           3   \n",
       "19 2019-12-08  Center Shopping Uberlândia     Bermuda Linho           4   \n",
       "20 2019-12-08           Iguatemi Campinas   Bermuda Estampa           4   \n",
       "21 2019-12-09          Iguatemi Esplanada    Bermuda Xadrez           3   \n",
       "22 2019-12-10  Center Shopping Uberlândia  Bermuda Listrado           1   \n",
       "23 2019-12-11           Iguatemi Campinas    Bermuda Xadrez           1   \n",
       "24 2019-12-11              Norte Shopping    Bermuda Xadrez           2   \n",
       "25 2019-12-12          Iguatemi Esplanada     Bermuda Linho           1   \n",
       "26 2019-12-14         Bourbon Shopping SP     Bermuda Linho           1   \n",
       "27 2019-12-15           Iguatemi Campinas     Bermuda Linho           3   \n",
       "28 2019-12-15  Center Shopping Uberlândia    Bermuda Xadrez           1   \n",
       "29 2019-12-15         Bourbon Shopping SP  Bermuda Listrado           2   \n",
       "30 2019-12-16              Norte Shopping  Bermuda Listrado           1   \n",
       "31 2019-12-16         Bourbon Shopping SP  Bermuda Listrado           2   \n",
       "32 2019-12-17              Norte Shopping    Bermuda Xadrez           1   \n",
       "33 2019-12-17           Iguatemi Campinas  Bermuda Listrado           4   \n",
       "34 2019-12-17         Bourbon Shopping SP           Bermuda           2   \n",
       "35 2019-12-17         Bourbon Shopping SP  Bermuda Listrado           3   \n",
       "36 2019-12-18              Norte Shopping  Bermuda Listrado           3   \n",
       "37 2019-12-18          Iguatemi Esplanada   Bermuda Estampa           1   \n",
       "38 2019-12-19           Iguatemi Campinas  Bermuda Listrado           1   \n",
       "39 2019-12-19  Center Shopping Uberlândia   Bermuda Estampa           1   \n",
       "40 2019-12-19  Center Shopping Uberlândia   Bermuda Estampa           1   \n",
       "41 2019-12-19              Norte Shopping           Bermuda           1   \n",
       "42 2019-12-20         Bourbon Shopping SP  Bermuda Listrado           2   \n",
       "43 2019-12-20          Iguatemi Esplanada     Bermuda Linho           1   \n",
       "44 2019-12-21              Norte Shopping   Bermuda Estampa           5   \n",
       "45 2019-12-21              Norte Shopping           Bermuda           4   \n",
       "46 2019-12-21          Iguatemi Esplanada     Bermuda Linho           5   \n",
       "47 2019-12-22           Iguatemi Campinas    Bermuda Xadrez           1   \n",
       "48 2019-12-22  Center Shopping Uberlândia  Bermuda Listrado           1   \n",
       "49 2019-12-23              Norte Shopping     Bermuda Linho           2   \n",
       "50 2019-12-23              Norte Shopping           Bermuda           2   \n",
       "51 2019-12-24  Center Shopping Uberlândia    Bermuda Xadrez           1   \n",
       "52 2019-12-24              Norte Shopping    Bermuda Xadrez           4   \n",
       "53 2019-12-24  Center Shopping Uberlândia    Bermuda Xadrez           4   \n",
       "54 2019-12-24           Iguatemi Campinas      Bermuda Liso          78   \n",
       "55 2019-12-25           Iguatemi Campinas      Bermuda Liso         100   \n",
       "56 2019-12-26         Bourbon Shopping SP   Bermuda Estampa           4   \n",
       "\n",
       "    Valor Unitário  Valor Final  \n",
       "0              169          169  \n",
       "1              155          155  \n",
       "2              150          300  \n",
       "3              163          489  \n",
       "4              195          585  \n",
       "5              155          155  \n",
       "6              163          163  \n",
       "7              155          465  \n",
       "8              169          169  \n",
       "9              155          620  \n",
       "10             150          150  \n",
       "11             169          338  \n",
       "12             150          600  \n",
       "13             157         8635  \n",
       "14             150          600  \n",
       "15             163          163  \n",
       "16             169          169  \n",
       "17             155          155  \n",
       "18             150          450  \n",
       "19             195          780  \n",
       "20             169          676  \n",
       "21             155          465  \n",
       "22             163          163  \n",
       "23             155          155  \n",
       "24             155          310  \n",
       "25             195          195  \n",
       "26             195          195  \n",
       "27             195          585  \n",
       "28             155          155  \n",
       "29             163          326  \n",
       "30             163          163  \n",
       "31             163          326  \n",
       "32             155          155  \n",
       "33             163          652  \n",
       "34             150          300  \n",
       "35             163          489  \n",
       "36             163          489  \n",
       "37             169          169  \n",
       "38             163          163  \n",
       "39             169          169  \n",
       "40             169          169  \n",
       "41             150          150  \n",
       "42             163          326  \n",
       "43             195          195  \n",
       "44             169          845  \n",
       "45             150          600  \n",
       "46             195          975  \n",
       "47             155          155  \n",
       "48             163          163  \n",
       "49             195          390  \n",
       "50             150          300  \n",
       "51             155          155  \n",
       "52             155          620  \n",
       "53             155          620  \n",
       "54             157        12246  \n",
       "55             157        15700  \n",
       "56             169          676  "
      ]
     },
     "metadata": {},
     "output_type": "display_data"
    }
   ],
   "source": [
    "import pandas as pd\n",
    "import plotly.express as px\n",
    "\n",
    "tabela = pd.read_excel('Vendas.xlsx')\n",
    "display(tabela)\n",
    "\n"
   ]
  },
  {
   "cell_type": "code",
   "execution_count": 20,
   "id": "1cc7394f",
   "metadata": {},
   "outputs": [
    {
     "name": "stdout",
     "output_type": "stream",
     "text": [
      "55895\n"
     ]
    }
   ],
   "source": [
    "\n",
    "faturamento_total = tabela['Valor Final'].sum()\n",
    "\n",
    "print(faturamento_total)"
   ]
  },
  {
   "cell_type": "code",
   "execution_count": 36,
   "id": "fbf2e41b",
   "metadata": {},
   "outputs": [
    {
     "data": {
      "application/vnd.plotly.v1+json": {
       "config": {
        "plotlyServerURL": "https://plot.ly"
       },
       "data": [
        {
         "domain": {
          "x": [
           0,
           1
          ],
          "y": [
           0,
           1
          ]
         },
         "hovertemplate": "label=%{label}<br>value=%{value}<extra></extra>",
         "labels": [
          "Iguatemi Campinas",
          "Iguatemi Esplanada",
          "Norte Shopping",
          "Iguatemi Campinas",
          "Iguatemi Campinas",
          "Iguatemi Campinas",
          "Bourbon Shopping SP",
          "Bourbon Shopping SP",
          "Bourbon Shopping SP",
          "Center Shopping Uberlândia",
          "Iguatemi Esplanada",
          "Bourbon Shopping SP",
          "Iguatemi Campinas",
          "Iguatemi Campinas",
          "Iguatemi Campinas",
          "Bourbon Shopping SP",
          "Iguatemi Esplanada",
          "Iguatemi Campinas",
          "Bourbon Shopping SP",
          "Center Shopping Uberlândia",
          "Iguatemi Campinas",
          "Iguatemi Esplanada",
          "Center Shopping Uberlândia",
          "Iguatemi Campinas",
          "Norte Shopping",
          "Iguatemi Esplanada",
          "Bourbon Shopping SP",
          "Iguatemi Campinas",
          "Center Shopping Uberlândia",
          "Bourbon Shopping SP",
          "Norte Shopping",
          "Bourbon Shopping SP",
          "Norte Shopping",
          "Iguatemi Campinas",
          "Bourbon Shopping SP",
          "Bourbon Shopping SP",
          "Norte Shopping",
          "Iguatemi Esplanada",
          "Iguatemi Campinas",
          "Center Shopping Uberlândia",
          "Center Shopping Uberlândia",
          "Norte Shopping",
          "Bourbon Shopping SP",
          "Iguatemi Esplanada",
          "Norte Shopping",
          "Norte Shopping",
          "Iguatemi Esplanada",
          "Iguatemi Campinas",
          "Center Shopping Uberlândia",
          "Norte Shopping",
          "Norte Shopping",
          "Center Shopping Uberlândia",
          "Norte Shopping",
          "Center Shopping Uberlândia",
          "Iguatemi Campinas",
          "Iguatemi Campinas",
          "Bourbon Shopping SP"
         ],
         "legendgroup": "",
         "name": "",
         "showlegend": true,
         "type": "pie",
         "values": [
          169,
          155,
          300,
          489,
          585,
          155,
          163,
          465,
          169,
          620,
          150,
          338,
          600,
          8635,
          600,
          163,
          169,
          155,
          450,
          780,
          676,
          465,
          163,
          155,
          310,
          195,
          195,
          585,
          155,
          326,
          163,
          326,
          155,
          652,
          300,
          489,
          489,
          169,
          163,
          169,
          169,
          150,
          326,
          195,
          845,
          600,
          975,
          155,
          163,
          390,
          300,
          155,
          620,
          620,
          12246,
          15700,
          676
         ]
        }
       ],
       "layout": {
        "legend": {
         "tracegroupgap": 0
        },
        "margin": {
         "t": 60
        },
        "template": {
         "data": {
          "bar": [
           {
            "error_x": {
             "color": "#2a3f5f"
            },
            "error_y": {
             "color": "#2a3f5f"
            },
            "marker": {
             "line": {
              "color": "#E5ECF6",
              "width": 0.5
             },
             "pattern": {
              "fillmode": "overlay",
              "size": 10,
              "solidity": 0.2
             }
            },
            "type": "bar"
           }
          ],
          "barpolar": [
           {
            "marker": {
             "line": {
              "color": "#E5ECF6",
              "width": 0.5
             },
             "pattern": {
              "fillmode": "overlay",
              "size": 10,
              "solidity": 0.2
             }
            },
            "type": "barpolar"
           }
          ],
          "carpet": [
           {
            "aaxis": {
             "endlinecolor": "#2a3f5f",
             "gridcolor": "white",
             "linecolor": "white",
             "minorgridcolor": "white",
             "startlinecolor": "#2a3f5f"
            },
            "baxis": {
             "endlinecolor": "#2a3f5f",
             "gridcolor": "white",
             "linecolor": "white",
             "minorgridcolor": "white",
             "startlinecolor": "#2a3f5f"
            },
            "type": "carpet"
           }
          ],
          "choropleth": [
           {
            "colorbar": {
             "outlinewidth": 0,
             "ticks": ""
            },
            "type": "choropleth"
           }
          ],
          "contour": [
           {
            "colorbar": {
             "outlinewidth": 0,
             "ticks": ""
            },
            "colorscale": [
             [
              0,
              "#0d0887"
             ],
             [
              0.1111111111111111,
              "#46039f"
             ],
             [
              0.2222222222222222,
              "#7201a8"
             ],
             [
              0.3333333333333333,
              "#9c179e"
             ],
             [
              0.4444444444444444,
              "#bd3786"
             ],
             [
              0.5555555555555556,
              "#d8576b"
             ],
             [
              0.6666666666666666,
              "#ed7953"
             ],
             [
              0.7777777777777778,
              "#fb9f3a"
             ],
             [
              0.8888888888888888,
              "#fdca26"
             ],
             [
              1,
              "#f0f921"
             ]
            ],
            "type": "contour"
           }
          ],
          "contourcarpet": [
           {
            "colorbar": {
             "outlinewidth": 0,
             "ticks": ""
            },
            "type": "contourcarpet"
           }
          ],
          "heatmap": [
           {
            "colorbar": {
             "outlinewidth": 0,
             "ticks": ""
            },
            "colorscale": [
             [
              0,
              "#0d0887"
             ],
             [
              0.1111111111111111,
              "#46039f"
             ],
             [
              0.2222222222222222,
              "#7201a8"
             ],
             [
              0.3333333333333333,
              "#9c179e"
             ],
             [
              0.4444444444444444,
              "#bd3786"
             ],
             [
              0.5555555555555556,
              "#d8576b"
             ],
             [
              0.6666666666666666,
              "#ed7953"
             ],
             [
              0.7777777777777778,
              "#fb9f3a"
             ],
             [
              0.8888888888888888,
              "#fdca26"
             ],
             [
              1,
              "#f0f921"
             ]
            ],
            "type": "heatmap"
           }
          ],
          "heatmapgl": [
           {
            "colorbar": {
             "outlinewidth": 0,
             "ticks": ""
            },
            "colorscale": [
             [
              0,
              "#0d0887"
             ],
             [
              0.1111111111111111,
              "#46039f"
             ],
             [
              0.2222222222222222,
              "#7201a8"
             ],
             [
              0.3333333333333333,
              "#9c179e"
             ],
             [
              0.4444444444444444,
              "#bd3786"
             ],
             [
              0.5555555555555556,
              "#d8576b"
             ],
             [
              0.6666666666666666,
              "#ed7953"
             ],
             [
              0.7777777777777778,
              "#fb9f3a"
             ],
             [
              0.8888888888888888,
              "#fdca26"
             ],
             [
              1,
              "#f0f921"
             ]
            ],
            "type": "heatmapgl"
           }
          ],
          "histogram": [
           {
            "marker": {
             "pattern": {
              "fillmode": "overlay",
              "size": 10,
              "solidity": 0.2
             }
            },
            "type": "histogram"
           }
          ],
          "histogram2d": [
           {
            "colorbar": {
             "outlinewidth": 0,
             "ticks": ""
            },
            "colorscale": [
             [
              0,
              "#0d0887"
             ],
             [
              0.1111111111111111,
              "#46039f"
             ],
             [
              0.2222222222222222,
              "#7201a8"
             ],
             [
              0.3333333333333333,
              "#9c179e"
             ],
             [
              0.4444444444444444,
              "#bd3786"
             ],
             [
              0.5555555555555556,
              "#d8576b"
             ],
             [
              0.6666666666666666,
              "#ed7953"
             ],
             [
              0.7777777777777778,
              "#fb9f3a"
             ],
             [
              0.8888888888888888,
              "#fdca26"
             ],
             [
              1,
              "#f0f921"
             ]
            ],
            "type": "histogram2d"
           }
          ],
          "histogram2dcontour": [
           {
            "colorbar": {
             "outlinewidth": 0,
             "ticks": ""
            },
            "colorscale": [
             [
              0,
              "#0d0887"
             ],
             [
              0.1111111111111111,
              "#46039f"
             ],
             [
              0.2222222222222222,
              "#7201a8"
             ],
             [
              0.3333333333333333,
              "#9c179e"
             ],
             [
              0.4444444444444444,
              "#bd3786"
             ],
             [
              0.5555555555555556,
              "#d8576b"
             ],
             [
              0.6666666666666666,
              "#ed7953"
             ],
             [
              0.7777777777777778,
              "#fb9f3a"
             ],
             [
              0.8888888888888888,
              "#fdca26"
             ],
             [
              1,
              "#f0f921"
             ]
            ],
            "type": "histogram2dcontour"
           }
          ],
          "mesh3d": [
           {
            "colorbar": {
             "outlinewidth": 0,
             "ticks": ""
            },
            "type": "mesh3d"
           }
          ],
          "parcoords": [
           {
            "line": {
             "colorbar": {
              "outlinewidth": 0,
              "ticks": ""
             }
            },
            "type": "parcoords"
           }
          ],
          "pie": [
           {
            "automargin": true,
            "type": "pie"
           }
          ],
          "scatter": [
           {
            "fillpattern": {
             "fillmode": "overlay",
             "size": 10,
             "solidity": 0.2
            },
            "type": "scatter"
           }
          ],
          "scatter3d": [
           {
            "line": {
             "colorbar": {
              "outlinewidth": 0,
              "ticks": ""
             }
            },
            "marker": {
             "colorbar": {
              "outlinewidth": 0,
              "ticks": ""
             }
            },
            "type": "scatter3d"
           }
          ],
          "scattercarpet": [
           {
            "marker": {
             "colorbar": {
              "outlinewidth": 0,
              "ticks": ""
             }
            },
            "type": "scattercarpet"
           }
          ],
          "scattergeo": [
           {
            "marker": {
             "colorbar": {
              "outlinewidth": 0,
              "ticks": ""
             }
            },
            "type": "scattergeo"
           }
          ],
          "scattergl": [
           {
            "marker": {
             "colorbar": {
              "outlinewidth": 0,
              "ticks": ""
             }
            },
            "type": "scattergl"
           }
          ],
          "scattermapbox": [
           {
            "marker": {
             "colorbar": {
              "outlinewidth": 0,
              "ticks": ""
             }
            },
            "type": "scattermapbox"
           }
          ],
          "scatterpolar": [
           {
            "marker": {
             "colorbar": {
              "outlinewidth": 0,
              "ticks": ""
             }
            },
            "type": "scatterpolar"
           }
          ],
          "scatterpolargl": [
           {
            "marker": {
             "colorbar": {
              "outlinewidth": 0,
              "ticks": ""
             }
            },
            "type": "scatterpolargl"
           }
          ],
          "scatterternary": [
           {
            "marker": {
             "colorbar": {
              "outlinewidth": 0,
              "ticks": ""
             }
            },
            "type": "scatterternary"
           }
          ],
          "surface": [
           {
            "colorbar": {
             "outlinewidth": 0,
             "ticks": ""
            },
            "colorscale": [
             [
              0,
              "#0d0887"
             ],
             [
              0.1111111111111111,
              "#46039f"
             ],
             [
              0.2222222222222222,
              "#7201a8"
             ],
             [
              0.3333333333333333,
              "#9c179e"
             ],
             [
              0.4444444444444444,
              "#bd3786"
             ],
             [
              0.5555555555555556,
              "#d8576b"
             ],
             [
              0.6666666666666666,
              "#ed7953"
             ],
             [
              0.7777777777777778,
              "#fb9f3a"
             ],
             [
              0.8888888888888888,
              "#fdca26"
             ],
             [
              1,
              "#f0f921"
             ]
            ],
            "type": "surface"
           }
          ],
          "table": [
           {
            "cells": {
             "fill": {
              "color": "#EBF0F8"
             },
             "line": {
              "color": "white"
             }
            },
            "header": {
             "fill": {
              "color": "#C8D4E3"
             },
             "line": {
              "color": "white"
             }
            },
            "type": "table"
           }
          ]
         },
         "layout": {
          "annotationdefaults": {
           "arrowcolor": "#2a3f5f",
           "arrowhead": 0,
           "arrowwidth": 1
          },
          "autotypenumbers": "strict",
          "coloraxis": {
           "colorbar": {
            "outlinewidth": 0,
            "ticks": ""
           }
          },
          "colorscale": {
           "diverging": [
            [
             0,
             "#8e0152"
            ],
            [
             0.1,
             "#c51b7d"
            ],
            [
             0.2,
             "#de77ae"
            ],
            [
             0.3,
             "#f1b6da"
            ],
            [
             0.4,
             "#fde0ef"
            ],
            [
             0.5,
             "#f7f7f7"
            ],
            [
             0.6,
             "#e6f5d0"
            ],
            [
             0.7,
             "#b8e186"
            ],
            [
             0.8,
             "#7fbc41"
            ],
            [
             0.9,
             "#4d9221"
            ],
            [
             1,
             "#276419"
            ]
           ],
           "sequential": [
            [
             0,
             "#0d0887"
            ],
            [
             0.1111111111111111,
             "#46039f"
            ],
            [
             0.2222222222222222,
             "#7201a8"
            ],
            [
             0.3333333333333333,
             "#9c179e"
            ],
            [
             0.4444444444444444,
             "#bd3786"
            ],
            [
             0.5555555555555556,
             "#d8576b"
            ],
            [
             0.6666666666666666,
             "#ed7953"
            ],
            [
             0.7777777777777778,
             "#fb9f3a"
            ],
            [
             0.8888888888888888,
             "#fdca26"
            ],
            [
             1,
             "#f0f921"
            ]
           ],
           "sequentialminus": [
            [
             0,
             "#0d0887"
            ],
            [
             0.1111111111111111,
             "#46039f"
            ],
            [
             0.2222222222222222,
             "#7201a8"
            ],
            [
             0.3333333333333333,
             "#9c179e"
            ],
            [
             0.4444444444444444,
             "#bd3786"
            ],
            [
             0.5555555555555556,
             "#d8576b"
            ],
            [
             0.6666666666666666,
             "#ed7953"
            ],
            [
             0.7777777777777778,
             "#fb9f3a"
            ],
            [
             0.8888888888888888,
             "#fdca26"
            ],
            [
             1,
             "#f0f921"
            ]
           ]
          },
          "colorway": [
           "#636efa",
           "#EF553B",
           "#00cc96",
           "#ab63fa",
           "#FFA15A",
           "#19d3f3",
           "#FF6692",
           "#B6E880",
           "#FF97FF",
           "#FECB52"
          ],
          "font": {
           "color": "#2a3f5f"
          },
          "geo": {
           "bgcolor": "white",
           "lakecolor": "white",
           "landcolor": "#E5ECF6",
           "showlakes": true,
           "showland": true,
           "subunitcolor": "white"
          },
          "hoverlabel": {
           "align": "left"
          },
          "hovermode": "closest",
          "mapbox": {
           "style": "light"
          },
          "paper_bgcolor": "white",
          "plot_bgcolor": "#E5ECF6",
          "polar": {
           "angularaxis": {
            "gridcolor": "white",
            "linecolor": "white",
            "ticks": ""
           },
           "bgcolor": "#E5ECF6",
           "radialaxis": {
            "gridcolor": "white",
            "linecolor": "white",
            "ticks": ""
           }
          },
          "scene": {
           "xaxis": {
            "backgroundcolor": "#E5ECF6",
            "gridcolor": "white",
            "gridwidth": 2,
            "linecolor": "white",
            "showbackground": true,
            "ticks": "",
            "zerolinecolor": "white"
           },
           "yaxis": {
            "backgroundcolor": "#E5ECF6",
            "gridcolor": "white",
            "gridwidth": 2,
            "linecolor": "white",
            "showbackground": true,
            "ticks": "",
            "zerolinecolor": "white"
           },
           "zaxis": {
            "backgroundcolor": "#E5ECF6",
            "gridcolor": "white",
            "gridwidth": 2,
            "linecolor": "white",
            "showbackground": true,
            "ticks": "",
            "zerolinecolor": "white"
           }
          },
          "shapedefaults": {
           "line": {
            "color": "#2a3f5f"
           }
          },
          "ternary": {
           "aaxis": {
            "gridcolor": "white",
            "linecolor": "white",
            "ticks": ""
           },
           "baxis": {
            "gridcolor": "white",
            "linecolor": "white",
            "ticks": ""
           },
           "bgcolor": "#E5ECF6",
           "caxis": {
            "gridcolor": "white",
            "linecolor": "white",
            "ticks": ""
           }
          },
          "title": {
           "x": 0.05
          },
          "xaxis": {
           "automargin": true,
           "gridcolor": "white",
           "linecolor": "white",
           "ticks": "",
           "title": {
            "standoff": 15
           },
           "zerolinecolor": "white",
           "zerolinewidth": 2
          },
          "yaxis": {
           "automargin": true,
           "gridcolor": "white",
           "linecolor": "white",
           "ticks": "",
           "title": {
            "standoff": 15
           },
           "zerolinecolor": "white",
           "zerolinewidth": 2
          }
         }
        }
       }
      },
      "text/html": [
       "<div>                            <div id=\"96443e0c-b839-47ef-930f-e259f3047b10\" class=\"plotly-graph-div\" style=\"height:525px; width:100%;\"></div>            <script type=\"text/javascript\">                require([\"plotly\"], function(Plotly) {                    window.PLOTLYENV=window.PLOTLYENV || {};                                    if (document.getElementById(\"96443e0c-b839-47ef-930f-e259f3047b10\")) {                    Plotly.newPlot(                        \"96443e0c-b839-47ef-930f-e259f3047b10\",                        [{\"domain\":{\"x\":[0.0,1.0],\"y\":[0.0,1.0]},\"hovertemplate\":\"label=%{label}<br>value=%{value}<extra></extra>\",\"labels\":[\"Iguatemi Campinas\",\"Iguatemi Esplanada\",\"Norte Shopping\",\"Iguatemi Campinas\",\"Iguatemi Campinas\",\"Iguatemi Campinas\",\"Bourbon Shopping SP\",\"Bourbon Shopping SP\",\"Bourbon Shopping SP\",\"Center Shopping Uberl\\u00e2ndia\",\"Iguatemi Esplanada\",\"Bourbon Shopping SP\",\"Iguatemi Campinas\",\"Iguatemi Campinas\",\"Iguatemi Campinas\",\"Bourbon Shopping SP\",\"Iguatemi Esplanada\",\"Iguatemi Campinas\",\"Bourbon Shopping SP\",\"Center Shopping Uberl\\u00e2ndia\",\"Iguatemi Campinas\",\"Iguatemi Esplanada\",\"Center Shopping Uberl\\u00e2ndia\",\"Iguatemi Campinas\",\"Norte Shopping\",\"Iguatemi Esplanada\",\"Bourbon Shopping SP\",\"Iguatemi Campinas\",\"Center Shopping Uberl\\u00e2ndia\",\"Bourbon Shopping SP\",\"Norte Shopping\",\"Bourbon Shopping SP\",\"Norte Shopping\",\"Iguatemi Campinas\",\"Bourbon Shopping SP\",\"Bourbon Shopping SP\",\"Norte Shopping\",\"Iguatemi Esplanada\",\"Iguatemi Campinas\",\"Center Shopping Uberl\\u00e2ndia\",\"Center Shopping Uberl\\u00e2ndia\",\"Norte Shopping\",\"Bourbon Shopping SP\",\"Iguatemi Esplanada\",\"Norte Shopping\",\"Norte Shopping\",\"Iguatemi Esplanada\",\"Iguatemi Campinas\",\"Center Shopping Uberl\\u00e2ndia\",\"Norte Shopping\",\"Norte Shopping\",\"Center Shopping Uberl\\u00e2ndia\",\"Norte Shopping\",\"Center Shopping Uberl\\u00e2ndia\",\"Iguatemi Campinas\",\"Iguatemi Campinas\",\"Bourbon Shopping SP\"],\"legendgroup\":\"\",\"name\":\"\",\"showlegend\":true,\"values\":[169,155,300,489,585,155,163,465,169,620,150,338,600,8635,600,163,169,155,450,780,676,465,163,155,310,195,195,585,155,326,163,326,155,652,300,489,489,169,163,169,169,150,326,195,845,600,975,155,163,390,300,155,620,620,12246,15700,676],\"type\":\"pie\"}],                        {\"template\":{\"data\":{\"histogram2dcontour\":[{\"type\":\"histogram2dcontour\",\"colorbar\":{\"outlinewidth\":0,\"ticks\":\"\"},\"colorscale\":[[0.0,\"#0d0887\"],[0.1111111111111111,\"#46039f\"],[0.2222222222222222,\"#7201a8\"],[0.3333333333333333,\"#9c179e\"],[0.4444444444444444,\"#bd3786\"],[0.5555555555555556,\"#d8576b\"],[0.6666666666666666,\"#ed7953\"],[0.7777777777777778,\"#fb9f3a\"],[0.8888888888888888,\"#fdca26\"],[1.0,\"#f0f921\"]]}],\"choropleth\":[{\"type\":\"choropleth\",\"colorbar\":{\"outlinewidth\":0,\"ticks\":\"\"}}],\"histogram2d\":[{\"type\":\"histogram2d\",\"colorbar\":{\"outlinewidth\":0,\"ticks\":\"\"},\"colorscale\":[[0.0,\"#0d0887\"],[0.1111111111111111,\"#46039f\"],[0.2222222222222222,\"#7201a8\"],[0.3333333333333333,\"#9c179e\"],[0.4444444444444444,\"#bd3786\"],[0.5555555555555556,\"#d8576b\"],[0.6666666666666666,\"#ed7953\"],[0.7777777777777778,\"#fb9f3a\"],[0.8888888888888888,\"#fdca26\"],[1.0,\"#f0f921\"]]}],\"heatmap\":[{\"type\":\"heatmap\",\"colorbar\":{\"outlinewidth\":0,\"ticks\":\"\"},\"colorscale\":[[0.0,\"#0d0887\"],[0.1111111111111111,\"#46039f\"],[0.2222222222222222,\"#7201a8\"],[0.3333333333333333,\"#9c179e\"],[0.4444444444444444,\"#bd3786\"],[0.5555555555555556,\"#d8576b\"],[0.6666666666666666,\"#ed7953\"],[0.7777777777777778,\"#fb9f3a\"],[0.8888888888888888,\"#fdca26\"],[1.0,\"#f0f921\"]]}],\"heatmapgl\":[{\"type\":\"heatmapgl\",\"colorbar\":{\"outlinewidth\":0,\"ticks\":\"\"},\"colorscale\":[[0.0,\"#0d0887\"],[0.1111111111111111,\"#46039f\"],[0.2222222222222222,\"#7201a8\"],[0.3333333333333333,\"#9c179e\"],[0.4444444444444444,\"#bd3786\"],[0.5555555555555556,\"#d8576b\"],[0.6666666666666666,\"#ed7953\"],[0.7777777777777778,\"#fb9f3a\"],[0.8888888888888888,\"#fdca26\"],[1.0,\"#f0f921\"]]}],\"contourcarpet\":[{\"type\":\"contourcarpet\",\"colorbar\":{\"outlinewidth\":0,\"ticks\":\"\"}}],\"contour\":[{\"type\":\"contour\",\"colorbar\":{\"outlinewidth\":0,\"ticks\":\"\"},\"colorscale\":[[0.0,\"#0d0887\"],[0.1111111111111111,\"#46039f\"],[0.2222222222222222,\"#7201a8\"],[0.3333333333333333,\"#9c179e\"],[0.4444444444444444,\"#bd3786\"],[0.5555555555555556,\"#d8576b\"],[0.6666666666666666,\"#ed7953\"],[0.7777777777777778,\"#fb9f3a\"],[0.8888888888888888,\"#fdca26\"],[1.0,\"#f0f921\"]]}],\"surface\":[{\"type\":\"surface\",\"colorbar\":{\"outlinewidth\":0,\"ticks\":\"\"},\"colorscale\":[[0.0,\"#0d0887\"],[0.1111111111111111,\"#46039f\"],[0.2222222222222222,\"#7201a8\"],[0.3333333333333333,\"#9c179e\"],[0.4444444444444444,\"#bd3786\"],[0.5555555555555556,\"#d8576b\"],[0.6666666666666666,\"#ed7953\"],[0.7777777777777778,\"#fb9f3a\"],[0.8888888888888888,\"#fdca26\"],[1.0,\"#f0f921\"]]}],\"mesh3d\":[{\"type\":\"mesh3d\",\"colorbar\":{\"outlinewidth\":0,\"ticks\":\"\"}}],\"scatter\":[{\"fillpattern\":{\"fillmode\":\"overlay\",\"size\":10,\"solidity\":0.2},\"type\":\"scatter\"}],\"parcoords\":[{\"type\":\"parcoords\",\"line\":{\"colorbar\":{\"outlinewidth\":0,\"ticks\":\"\"}}}],\"scatterpolargl\":[{\"type\":\"scatterpolargl\",\"marker\":{\"colorbar\":{\"outlinewidth\":0,\"ticks\":\"\"}}}],\"bar\":[{\"error_x\":{\"color\":\"#2a3f5f\"},\"error_y\":{\"color\":\"#2a3f5f\"},\"marker\":{\"line\":{\"color\":\"#E5ECF6\",\"width\":0.5},\"pattern\":{\"fillmode\":\"overlay\",\"size\":10,\"solidity\":0.2}},\"type\":\"bar\"}],\"scattergeo\":[{\"type\":\"scattergeo\",\"marker\":{\"colorbar\":{\"outlinewidth\":0,\"ticks\":\"\"}}}],\"scatterpolar\":[{\"type\":\"scatterpolar\",\"marker\":{\"colorbar\":{\"outlinewidth\":0,\"ticks\":\"\"}}}],\"histogram\":[{\"marker\":{\"pattern\":{\"fillmode\":\"overlay\",\"size\":10,\"solidity\":0.2}},\"type\":\"histogram\"}],\"scattergl\":[{\"type\":\"scattergl\",\"marker\":{\"colorbar\":{\"outlinewidth\":0,\"ticks\":\"\"}}}],\"scatter3d\":[{\"type\":\"scatter3d\",\"line\":{\"colorbar\":{\"outlinewidth\":0,\"ticks\":\"\"}},\"marker\":{\"colorbar\":{\"outlinewidth\":0,\"ticks\":\"\"}}}],\"scattermapbox\":[{\"type\":\"scattermapbox\",\"marker\":{\"colorbar\":{\"outlinewidth\":0,\"ticks\":\"\"}}}],\"scatterternary\":[{\"type\":\"scatterternary\",\"marker\":{\"colorbar\":{\"outlinewidth\":0,\"ticks\":\"\"}}}],\"scattercarpet\":[{\"type\":\"scattercarpet\",\"marker\":{\"colorbar\":{\"outlinewidth\":0,\"ticks\":\"\"}}}],\"carpet\":[{\"aaxis\":{\"endlinecolor\":\"#2a3f5f\",\"gridcolor\":\"white\",\"linecolor\":\"white\",\"minorgridcolor\":\"white\",\"startlinecolor\":\"#2a3f5f\"},\"baxis\":{\"endlinecolor\":\"#2a3f5f\",\"gridcolor\":\"white\",\"linecolor\":\"white\",\"minorgridcolor\":\"white\",\"startlinecolor\":\"#2a3f5f\"},\"type\":\"carpet\"}],\"table\":[{\"cells\":{\"fill\":{\"color\":\"#EBF0F8\"},\"line\":{\"color\":\"white\"}},\"header\":{\"fill\":{\"color\":\"#C8D4E3\"},\"line\":{\"color\":\"white\"}},\"type\":\"table\"}],\"barpolar\":[{\"marker\":{\"line\":{\"color\":\"#E5ECF6\",\"width\":0.5},\"pattern\":{\"fillmode\":\"overlay\",\"size\":10,\"solidity\":0.2}},\"type\":\"barpolar\"}],\"pie\":[{\"automargin\":true,\"type\":\"pie\"}]},\"layout\":{\"autotypenumbers\":\"strict\",\"colorway\":[\"#636efa\",\"#EF553B\",\"#00cc96\",\"#ab63fa\",\"#FFA15A\",\"#19d3f3\",\"#FF6692\",\"#B6E880\",\"#FF97FF\",\"#FECB52\"],\"font\":{\"color\":\"#2a3f5f\"},\"hovermode\":\"closest\",\"hoverlabel\":{\"align\":\"left\"},\"paper_bgcolor\":\"white\",\"plot_bgcolor\":\"#E5ECF6\",\"polar\":{\"bgcolor\":\"#E5ECF6\",\"angularaxis\":{\"gridcolor\":\"white\",\"linecolor\":\"white\",\"ticks\":\"\"},\"radialaxis\":{\"gridcolor\":\"white\",\"linecolor\":\"white\",\"ticks\":\"\"}},\"ternary\":{\"bgcolor\":\"#E5ECF6\",\"aaxis\":{\"gridcolor\":\"white\",\"linecolor\":\"white\",\"ticks\":\"\"},\"baxis\":{\"gridcolor\":\"white\",\"linecolor\":\"white\",\"ticks\":\"\"},\"caxis\":{\"gridcolor\":\"white\",\"linecolor\":\"white\",\"ticks\":\"\"}},\"coloraxis\":{\"colorbar\":{\"outlinewidth\":0,\"ticks\":\"\"}},\"colorscale\":{\"sequential\":[[0.0,\"#0d0887\"],[0.1111111111111111,\"#46039f\"],[0.2222222222222222,\"#7201a8\"],[0.3333333333333333,\"#9c179e\"],[0.4444444444444444,\"#bd3786\"],[0.5555555555555556,\"#d8576b\"],[0.6666666666666666,\"#ed7953\"],[0.7777777777777778,\"#fb9f3a\"],[0.8888888888888888,\"#fdca26\"],[1.0,\"#f0f921\"]],\"sequentialminus\":[[0.0,\"#0d0887\"],[0.1111111111111111,\"#46039f\"],[0.2222222222222222,\"#7201a8\"],[0.3333333333333333,\"#9c179e\"],[0.4444444444444444,\"#bd3786\"],[0.5555555555555556,\"#d8576b\"],[0.6666666666666666,\"#ed7953\"],[0.7777777777777778,\"#fb9f3a\"],[0.8888888888888888,\"#fdca26\"],[1.0,\"#f0f921\"]],\"diverging\":[[0,\"#8e0152\"],[0.1,\"#c51b7d\"],[0.2,\"#de77ae\"],[0.3,\"#f1b6da\"],[0.4,\"#fde0ef\"],[0.5,\"#f7f7f7\"],[0.6,\"#e6f5d0\"],[0.7,\"#b8e186\"],[0.8,\"#7fbc41\"],[0.9,\"#4d9221\"],[1,\"#276419\"]]},\"xaxis\":{\"gridcolor\":\"white\",\"linecolor\":\"white\",\"ticks\":\"\",\"title\":{\"standoff\":15},\"zerolinecolor\":\"white\",\"automargin\":true,\"zerolinewidth\":2},\"yaxis\":{\"gridcolor\":\"white\",\"linecolor\":\"white\",\"ticks\":\"\",\"title\":{\"standoff\":15},\"zerolinecolor\":\"white\",\"automargin\":true,\"zerolinewidth\":2},\"scene\":{\"xaxis\":{\"backgroundcolor\":\"#E5ECF6\",\"gridcolor\":\"white\",\"linecolor\":\"white\",\"showbackground\":true,\"ticks\":\"\",\"zerolinecolor\":\"white\",\"gridwidth\":2},\"yaxis\":{\"backgroundcolor\":\"#E5ECF6\",\"gridcolor\":\"white\",\"linecolor\":\"white\",\"showbackground\":true,\"ticks\":\"\",\"zerolinecolor\":\"white\",\"gridwidth\":2},\"zaxis\":{\"backgroundcolor\":\"#E5ECF6\",\"gridcolor\":\"white\",\"linecolor\":\"white\",\"showbackground\":true,\"ticks\":\"\",\"zerolinecolor\":\"white\",\"gridwidth\":2}},\"shapedefaults\":{\"line\":{\"color\":\"#2a3f5f\"}},\"annotationdefaults\":{\"arrowcolor\":\"#2a3f5f\",\"arrowhead\":0,\"arrowwidth\":1},\"geo\":{\"bgcolor\":\"white\",\"landcolor\":\"#E5ECF6\",\"subunitcolor\":\"white\",\"showland\":true,\"showlakes\":true,\"lakecolor\":\"white\"},\"title\":{\"x\":0.05},\"mapbox\":{\"style\":\"light\"}}},\"legend\":{\"tracegroupgap\":0},\"margin\":{\"t\":60}},                        {\"responsive\": true}                    ).then(function(){\n",
       "                            \n",
       "var gd = document.getElementById('96443e0c-b839-47ef-930f-e259f3047b10');\n",
       "var x = new MutationObserver(function (mutations, observer) {{\n",
       "        var display = window.getComputedStyle(gd).display;\n",
       "        if (!display || display === 'none') {{\n",
       "            console.log([gd, 'removed!']);\n",
       "            Plotly.purge(gd);\n",
       "            observer.disconnect();\n",
       "        }}\n",
       "}});\n",
       "\n",
       "// Listen for the removal of the full notebook cells\n",
       "var notebookContainer = gd.closest('#notebook-container');\n",
       "if (notebookContainer) {{\n",
       "    x.observe(notebookContainer, {childList: true});\n",
       "}}\n",
       "\n",
       "// Listen for the clearing of the current output cell\n",
       "var outputEl = gd.closest('.output');\n",
       "if (outputEl) {{\n",
       "    x.observe(outputEl, {childList: true});\n",
       "}}\n",
       "\n",
       "                        })                };                });            </script>        </div>"
      ]
     },
     "metadata": {},
     "output_type": "display_data"
    }
   ],
   "source": [
    "faturamento_por_loja = tabela[['ID Loja', 'Valor Final']].groupby('ID Loja').sum()\n",
    "\n",
    "faturamento = tabela['Valor Final']\n",
    "loja = tabela['ID Loja']\n",
    "\n",
    "\n",
    "fig = px.pie(values=faturamento, names=loja) \n",
    "fig.show()\n",
    "\n"
   ]
  },
  {
   "cell_type": "code",
   "execution_count": 37,
   "id": "a3bcdc03",
   "metadata": {},
   "outputs": [
    {
     "data": {
      "text/html": [
       "<div>\n",
       "<style scoped>\n",
       "    .dataframe tbody tr th:only-of-type {\n",
       "        vertical-align: middle;\n",
       "    }\n",
       "\n",
       "    .dataframe tbody tr th {\n",
       "        vertical-align: top;\n",
       "    }\n",
       "\n",
       "    .dataframe thead th {\n",
       "        text-align: right;\n",
       "    }\n",
       "</style>\n",
       "<table border=\"1\" class=\"dataframe\">\n",
       "  <thead>\n",
       "    <tr style=\"text-align: right;\">\n",
       "      <th></th>\n",
       "      <th></th>\n",
       "      <th>Valor Final</th>\n",
       "    </tr>\n",
       "    <tr>\n",
       "      <th>ID Loja</th>\n",
       "      <th>Produto</th>\n",
       "      <th></th>\n",
       "    </tr>\n",
       "  </thead>\n",
       "  <tbody>\n",
       "    <tr>\n",
       "      <th rowspan=\"5\" valign=\"top\">Bourbon Shopping SP</th>\n",
       "      <th>Bermuda</th>\n",
       "      <td>750</td>\n",
       "    </tr>\n",
       "    <tr>\n",
       "      <th>Bermuda Estampa</th>\n",
       "      <td>1183</td>\n",
       "    </tr>\n",
       "    <tr>\n",
       "      <th>Bermuda Linho</th>\n",
       "      <td>195</td>\n",
       "    </tr>\n",
       "    <tr>\n",
       "      <th>Bermuda Listrado</th>\n",
       "      <td>1793</td>\n",
       "    </tr>\n",
       "    <tr>\n",
       "      <th>Bermuda Xadrez</th>\n",
       "      <td>465</td>\n",
       "    </tr>\n",
       "    <tr>\n",
       "      <th rowspan=\"4\" valign=\"top\">Center Shopping Uberlândia</th>\n",
       "      <th>Bermuda Estampa</th>\n",
       "      <td>338</td>\n",
       "    </tr>\n",
       "    <tr>\n",
       "      <th>Bermuda Linho</th>\n",
       "      <td>780</td>\n",
       "    </tr>\n",
       "    <tr>\n",
       "      <th>Bermuda Listrado</th>\n",
       "      <td>326</td>\n",
       "    </tr>\n",
       "    <tr>\n",
       "      <th>Bermuda Xadrez</th>\n",
       "      <td>1550</td>\n",
       "    </tr>\n",
       "    <tr>\n",
       "      <th rowspan=\"6\" valign=\"top\">Iguatemi Campinas</th>\n",
       "      <th>Bermuda</th>\n",
       "      <td>1200</td>\n",
       "    </tr>\n",
       "    <tr>\n",
       "      <th>Bermuda Estampa</th>\n",
       "      <td>845</td>\n",
       "    </tr>\n",
       "    <tr>\n",
       "      <th>Bermuda Linho</th>\n",
       "      <td>1170</td>\n",
       "    </tr>\n",
       "    <tr>\n",
       "      <th>Bermuda Liso</th>\n",
       "      <td>36581</td>\n",
       "    </tr>\n",
       "    <tr>\n",
       "      <th>Bermuda Listrado</th>\n",
       "      <td>1304</td>\n",
       "    </tr>\n",
       "    <tr>\n",
       "      <th>Bermuda Xadrez</th>\n",
       "      <td>620</td>\n",
       "    </tr>\n",
       "    <tr>\n",
       "      <th rowspan=\"4\" valign=\"top\">Iguatemi Esplanada</th>\n",
       "      <th>Bermuda</th>\n",
       "      <td>150</td>\n",
       "    </tr>\n",
       "    <tr>\n",
       "      <th>Bermuda Estampa</th>\n",
       "      <td>338</td>\n",
       "    </tr>\n",
       "    <tr>\n",
       "      <th>Bermuda Linho</th>\n",
       "      <td>1365</td>\n",
       "    </tr>\n",
       "    <tr>\n",
       "      <th>Bermuda Xadrez</th>\n",
       "      <td>620</td>\n",
       "    </tr>\n",
       "    <tr>\n",
       "      <th rowspan=\"5\" valign=\"top\">Norte Shopping</th>\n",
       "      <th>Bermuda</th>\n",
       "      <td>1350</td>\n",
       "    </tr>\n",
       "    <tr>\n",
       "      <th>Bermuda Estampa</th>\n",
       "      <td>845</td>\n",
       "    </tr>\n",
       "    <tr>\n",
       "      <th>Bermuda Linho</th>\n",
       "      <td>390</td>\n",
       "    </tr>\n",
       "    <tr>\n",
       "      <th>Bermuda Listrado</th>\n",
       "      <td>652</td>\n",
       "    </tr>\n",
       "    <tr>\n",
       "      <th>Bermuda Xadrez</th>\n",
       "      <td>1085</td>\n",
       "    </tr>\n",
       "  </tbody>\n",
       "</table>\n",
       "</div>"
      ],
      "text/plain": [
       "                                             Valor Final\n",
       "ID Loja                    Produto                      \n",
       "Bourbon Shopping SP        Bermuda                   750\n",
       "                           Bermuda Estampa          1183\n",
       "                           Bermuda Linho             195\n",
       "                           Bermuda Listrado         1793\n",
       "                           Bermuda Xadrez            465\n",
       "Center Shopping Uberlândia Bermuda Estampa           338\n",
       "                           Bermuda Linho             780\n",
       "                           Bermuda Listrado          326\n",
       "                           Bermuda Xadrez           1550\n",
       "Iguatemi Campinas          Bermuda                  1200\n",
       "                           Bermuda Estampa           845\n",
       "                           Bermuda Linho            1170\n",
       "                           Bermuda Liso            36581\n",
       "                           Bermuda Listrado         1304\n",
       "                           Bermuda Xadrez            620\n",
       "Iguatemi Esplanada         Bermuda                   150\n",
       "                           Bermuda Estampa           338\n",
       "                           Bermuda Linho            1365\n",
       "                           Bermuda Xadrez            620\n",
       "Norte Shopping             Bermuda                  1350\n",
       "                           Bermuda Estampa           845\n",
       "                           Bermuda Linho             390\n",
       "                           Bermuda Listrado          652\n",
       "                           Bermuda Xadrez           1085"
      ]
     },
     "metadata": {},
     "output_type": "display_data"
    }
   ],
   "source": [
    "faturamento_por_produto= tabela[['ID Loja', 'Produto','Valor Final']].groupby(['ID Loja', 'Produto']).sum()\n",
    "\n",
    "\n",
    "display(faturamento_por_produto)"
   ]
  },
  {
   "cell_type": "code",
   "execution_count": null,
   "id": "a97dc104",
   "metadata": {},
   "outputs": [],
   "source": [
    "# ao obsevar e comparar os dados, a conclusão é que, o protudo 'Bermuda Liso' é um fator de importância para o faturamento da unidade 'Iguatemi Campinas' ser superior as demais."
   ]
  }
 ],
 "metadata": {
  "kernelspec": {
   "display_name": "Python 3 (ipykernel)",
   "language": "python",
   "name": "python3"
  },
  "language_info": {
   "codemirror_mode": {
    "name": "ipython",
    "version": 3
   },
   "file_extension": ".py",
   "mimetype": "text/x-python",
   "name": "python",
   "nbconvert_exporter": "python",
   "pygments_lexer": "ipython3",
   "version": "3.11.4"
  }
 },
 "nbformat": 4,
 "nbformat_minor": 5
}
